{
  "cells": [
    {
      "cell_type": "markdown",
      "metadata": {},
      "source": [
        "---\n",
        "title: \"Recipe 3: Color coding grain boundary atoms\"\n",
        "subtitle: \"How to Script with OVITO\"\n",
        "code-links:\n",
        "    - text: Notebook\n",
        "      icon: file-code\n",
        "      href: https://colab.research.google.com/drive/11oqMSu_rgyFj5cfCJzHZE9vDVDuq3wyS?usp=sharing\n",
        "---"
      ]
    },
    {
      "cell_type": "markdown",
      "metadata": {},
      "source": [
        "<a target=\"_blank\" href=\"https://colab.research.google.com/github/stefanbringuier/HowToSOVITO/blob/main/notebooks/HowToSOVITO_Recipe3.ipynb\">\n",
        "  <img src=\"https://colab.research.google.com/assets/colab-badge.svg\" alt=\"Open In Colab\"/>\n",
        "</a>"
      ]
    },
    {
      "cell_type": "markdown",
      "metadata": {},
      "source": [
        "When you have [grain boundaries](https://wikipedia.org/wiki/Grain_boundary) it is convenient to be able to distinguish those atoms from the bulk. One way to do so is using a order or structural parameter that captures some information about the local environment. OVITO has a few different options built in that enable characterize whether an atom is in an FCC, BCC, HCP, or other structure. Here I'll be working with the LAMMPS dump file from the example in [@Bringuier2015] which reproduces the results from [@Cahn2006]."
      ]
    },
    {
      "cell_type": "code",
      "execution_count": 1,
      "metadata": {
        "id": "2JlyS97-NDig"
      },
      "outputs": [],
      "source": [
        "%%capture\n",
        "! pip install -U ovito"
      ]
    },
    {
      "cell_type": "markdown",
      "metadata": {},
      "source": [
        "## Import OVITO modules"
      ]
    },
    {
      "cell_type": "code",
      "execution_count": 2,
      "metadata": {},
      "outputs": [],
      "source": [
        "from ovito.io import import_file\n",
        "from ovito.vis import Viewport\n",
        "from ovito.modifiers import CommonNeighborAnalysisModifier, CalculateDisplacementsModifier\n",
        "from ovito.modifiers import ExpressionSelectionModifier, DeleteSelectedModifier, InvertSelectionModifier\n",
        "from ovito.modifiers import AssignColorModifier\n",
        "from ovito.vis import VectorVis\n",
        "from ovito.vis import OSPRayRenderer"
      ]
    },
    {
      "cell_type": "markdown",
      "metadata": {},
      "source": [
        "## Step 1: Download and import file\n",
        "\n",
        "::: {.callout-note}\n",
        "This LAMMPS dump file was from a 2D simulation but the symmetry is 3D so we reset the PBC for all directions. I'm doing this because I want to maintain the correct structural analysis results.\n",
        ":::"
      ]
    },
    {
      "cell_type": "code",
      "execution_count": 3,
      "metadata": {},
      "outputs": [],
      "source": [
        "%%capture\n",
        "! wget 'https://drive.google.com/uc?id=1Id0D6rfHxJOTuPx2RVAYkm2yRBBgIzSE&export=download' -O dump.Cu_Bicrystal_Shear_298K.gz\n",
        "pipeline = import_file('dump.Cu_Bicrystal_Shear_298K.gz',input_format='lammps/dump')\n",
        "pipeline.source.data.cell_.pbc = (True, True, True)\n"
      ]
    },
    {
      "cell_type": "markdown",
      "metadata": {},
      "source": [
        "## Step 2: Perform structural analysis and calculate displacement vectors\n",
        "\n",
        "I will use the [CommonNeighborAnalysisModifier](https://www.ovito.org/manual/reference/pipelines/modifiers/common_neighbor_analysis.html) which provides standard structural analysis to identify the closed-packing of the crystal (e.g., FCC, BCC, HCP, ICO). \n",
        "\n",
        "Once the structure modifier is used, I will color code just the atoms that are of `StructureType == ` which corresponds to \"Other\". To do this we can use the modifier to select these atoms and then color code.\n"
      ]
    },
    {
      "cell_type": "code",
      "execution_count": 4,
      "metadata": {},
      "outputs": [],
      "source": [
        "pipeline.modifiers.append(CommonNeighborAnalysisModifier())\n",
        "\n",
        "# Select particles based on structure type and position\n",
        "expression = 'StructureType != 0 || (Position.Z > CellSize.Z-5 || Position.Z < 5.0 )'\n",
        "pipeline.modifiers.append(ExpressionSelectionModifier(expression=expression))\n",
        "\n",
        "# Color the selected particles\n",
        "pipeline.modifiers.append(AssignColorModifier(color=(0.0, 0.5, 1.0))) \n",
        "pipeline.modifiers.append(InvertSelectionModifier())\n",
        "# Now color the GB atoms\n",
        "pipeline.modifiers.append(AssignColorModifier(color=(0.8, 0.5, 0.2)))\n",
        "pipeline.modifiers.append(InvertSelectionModifier())\n",
        "\n",
        "pipeline.add_to_scene()"
      ]
    },
    {
      "cell_type": "markdown",
      "metadata": {},
      "source": [
        "## Step 3: Render first animation"
      ]
    },
    {
      "cell_type": "code",
      "execution_count": 5,
      "metadata": {},
      "outputs": [],
      "source": [
        "vp = Viewport(type=Viewport.Type.Ortho)\n",
        "vp.camera_dir = [-1, 0, 0]\n",
        "vp.zoom_all()\n",
        "renderer = OSPRayRenderer(\n",
        "    ambient_light_enabled=True,\n",
        "    denoising_enabled=True,\n",
        "    direct_light_enabled=True,\n",
        "    direct_light_intensity=1.0,\n",
        "    material_shininess=10.0,\n",
        "    material_specular_brightness=0.02\n",
        ")\n",
        "\n",
        "fname = \"Cu_Bicrystal_Shear_298K_ColorCoding.gif\"\n",
        "vp.render_anim(size=(600,400), \n",
        "               filename=fname, \n",
        "               renderer=renderer)"
      ]
    },
    {
      "cell_type": "markdown",
      "metadata": {},
      "source": [
        "::: {.callout-note}\n",
        "The code below is to allow for displaying rendered images in Google Colab.\n",
        ":::"
      ]
    },
    {
      "cell_type": "code",
      "execution_count": 6,
      "metadata": {},
      "outputs": [],
      "source": [
        "try:\n",
        "    import google.colab\n",
        "    from IPython.display import Image\n",
        "    Image(open(fname, 'rb').read())\n",
        "except ImportError:\n",
        "    \"Assuming local run.\""
      ]
    },
    {
      "cell_type": "markdown",
      "metadata": {},
      "source": [
        "![Grain boundary color coded.](../resources/recipe3_animation_1.gif){#fig-gb-colored}"
      ]
    },
    {
      "cell_type": "markdown",
      "metadata": {},
      "source": [
        "## Step 4: Displacement vectors"
      ]
    },
    {
      "cell_type": "markdown",
      "metadata": {},
      "source": [
        "\n",
        "We may want to show how the atoms at the grain boundary are moving with respect to the shear force. We can do this with the displacement vectors. The displacement vectors are taken with respect to an previous frame offset of 25. This is used to showcase how the grain boundary atoms are moving, what you'll see is that its in a cork-screw like manner.\n",
        "\n",
        "Since we already have a pipeline and all we want to do is add the displacement vectors and then disable visualizing the particles themselves. I also just want to so the displacement vectors for the grain boundary atoms, so I need to delete the selected particles and then  we just need to add a few additional lines of code and then re-render to a new animation file."
      ]
    },
    {
      "cell_type": "code",
      "execution_count": 8,
      "metadata": {},
      "outputs": [],
      "source": [
        "\n",
        "# Visualization object for vector arrows\n",
        "vec_vis = VectorVis(width=0.1,\n",
        "                    scaling=1.5,\n",
        "                    flat_shading=False,\n",
        "                    color=(1,0,0))\n",
        "\n",
        "displacement_mod = CalculateDisplacementsModifier(frame_offset=-25,\n",
        "                                                  use_frame_offset=True,\n",
        "                                                  vis=vec_vis)\n",
        "displacement_mod.vis.enabled = True\n",
        "pipeline.modifiers.append(displacement_mod)\n",
        "\n",
        "# Need this line to turn off particle visibility\n",
        "# Delete elected particles\n",
        "pipeline.modifiers.append(DeleteSelectedModifier(operate_on={'particles'}))\n",
        "pipeline.compute(frame=25).particles.vis.enabled = False\n"
      ]
    },
    {
      "cell_type": "markdown",
      "metadata": {},
      "source": [
        "## Step 5: Render second animation"
      ]
    },
    {
      "cell_type": "code",
      "execution_count": 9,
      "metadata": {},
      "outputs": [],
      "source": [
        "vp2 = Viewport(type=Viewport.Type.Ortho)\n",
        "vp2.camera_dir = [-1, 0, 0]\n",
        "vp2.zoom_all()\n",
        "fname = \"Cu_Bicrystal_Shear_298K_DisplacementVectors.gif\"\n",
        "nframes = pipeline.source.num_frames\n",
        "vp2.render_anim(size=(600,400), \n",
        "               filename=fname, \n",
        "               range=(25,nframes),\n",
        "               renderer=renderer)"
      ]
    },
    {
      "cell_type": "code",
      "execution_count": 10,
      "metadata": {},
      "outputs": [],
      "source": [
        "try:\n",
        "    import google.colab\n",
        "    from IPython.display import Image\n",
        "    Image(open(fname, 'rb').read())\n",
        "except ImportError:\n",
        "    \"Assuming local run.\""
      ]
    },
    {
      "cell_type": "markdown",
      "metadata": {},
      "source": [
        "![Visualization of displacement vectors for grain boundary.](../resources/recipe3_animation_2.gif){#fig-gb-displacement-vecs}"
      ]
    }
  ],
  "metadata": {
    "accelerator": "GPU",
    "colab": {
      "gpuType": "T4",
      "provenance": []
    },
    "kernelspec": {
      "display_name": "Python 3",
      "name": "python3"
    },
    "language_info": {
      "codemirror_mode": {
        "name": "ipython",
        "version": 3
      },
      "file_extension": ".py",
      "mimetype": "text/x-python",
      "name": "python",
      "nbconvert_exporter": "python",
      "pygments_lexer": "ipython3",
      "version": "3.10.12"
    }
  },
  "nbformat": 4,
  "nbformat_minor": 0
}
